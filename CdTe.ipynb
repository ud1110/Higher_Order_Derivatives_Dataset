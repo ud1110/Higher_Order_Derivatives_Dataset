import numpy as np
import pandas as pd
import matplotlib.pyplot as plt
from sklearn.isotonic import IsotonicRegression

data = pd.read_excel('CdTe.xlsx')
vd = data['V'].to_numpy()
jd = data['J'].to_numpy()
jph=np.max(jd)
print(jph)

ir = IsotonicRegression(increasing=False)
jd_s = ir.fit_transform(vd, jd)  # Fit and transform
vd_s = vd  # Keep voltage values the same

num_points = 15
indices = np.linspace(0, len(vd_s) - 1, num=num_points, dtype=int)
vd_s = vd_s[indices]
jd_s = jd_s[indices]

plt.plot(vd, jd, color='green', alpha=0.5, label='Original Data')
plt.plot(vd_s, jd_s, 'o', label='Selected 15 Points', color='red')
plt.xlabel('Voltage (V)', fontsize='16')
plt.ylabel('Current Density (mA/cm$^2$)', fontsize='16')
plt.title('j-V Characteristics (Selected Data points)', fontsize='16')
plt.legend()
plt.show()

for i in range(len(vd_s)):
    print(vd_s[i], jd_s[i])
